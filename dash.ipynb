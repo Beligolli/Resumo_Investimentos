{
 "cells": [
  {
   "cell_type": "code",
   "execution_count": 3,
   "metadata": {},
   "outputs": [],
   "source": [
    "import pandas as pd\n",
    "import win32com.client as win32\n",
    "import time\n",
    "import requests\n",
    "import json\n",
    "import openpyxl\n",
    "import pandas_datareader.data as web\n",
    "from datetime import date, timedelta\n",
    "from openpyxl import load_workbook\n",
    "import yfinance as yf\n",
    "import os\n",
    "from selenium import webdriver\n",
    "from selenium.webdriver.common.by import By\n",
    "from time import sleep\n",
    "import shutil"
   ]
  },
  {
   "attachments": {},
   "cell_type": "markdown",
   "metadata": {},
   "source": [
    "Puxando posição detalhada c/ selenium (webscrapping)"
   ]
  },
  {
   "cell_type": "code",
   "execution_count": 4,
   "metadata": {},
   "outputs": [],
   "source": [
    "\n",
    "options = webdriver.ChromeOptions()\n",
    "prefs = {\"download.default_directory\" : r\"C:\\Users\\belig\\OneDrive\\Python\\MeuProjeto\\Projetos\\dash_investimentos\\Resumo_Investimentos\\posicao_detalhada\"}\n",
    "#example: prefs = {\"download.default_directory\" : \"C:\\Tutorial\\down\"};\n",
    "options.add_experimental_option(\"prefs\",prefs)\n",
    "\n",
    "navegador = webdriver.Chrome(options=options)\n",
    "navegador.get('https://portal.xpi.com.br/')\n",
    "id_cliente= '2563257'\n",
    "navegador.find_element(By.XPATH, '//*[@id=\"txtLogin\"]').send_keys(id_cliente)\n",
    "sleep(2)\n",
    "navegador.find_element(By.XPATH, '//*[@id=\"btnOkLogin\"]').click()\n",
    "sleep(25)\n",
    "navegador.find_element(By.XPATH, '//*[@id=\"root\"]/div/div/soma-tabs/soma-tab[2]/a').click()\n",
    "sleep(2)\n",
    "navegador.find_element(By.XPATH, '//*[@id=\"root\"]/arsenal-loader/div/div[2]/div[2]/div[1]/div/div/div[4]/div/soma-button[1]').click()\n",
    "sleep(2)\n",
    "navegador.close()\n",
    "sleep(4)\n",
    "src = r'C:\\Users\\belig\\OneDrive\\Python\\MeuProjeto\\Projetos\\dash_investimentos\\Resumo_Investimentos\\posicao_detalhada'\n",
    "dst = r'C:\\Users\\belig\\OneDrive\\Python\\MeuProjeto\\Projetos\\dash_investimentos\\Resumo_Investimentos'\n",
    "filelist = ['PosicaoDetalhada']\n",
    "\n",
    "files = os.listdir( src )\n",
    "for filename in files:\n",
    "    filelist.append(filename)\n",
    "    fullpath = src + '/' + filename\n",
    "    shutil.move(os.path.join(src, filename), os.path.join(dst, filename))"
   ]
  },
  {
   "cell_type": "markdown",
   "metadata": {},
   "source": [
    "Puxar Valor Dolar"
   ]
  },
  {
   "cell_type": "code",
   "execution_count": 5,
   "metadata": {},
   "outputs": [
    {
     "name": "stdout",
     "output_type": "stream",
     "text": [
      "5.4418\n"
     ]
    }
   ],
   "source": [
    "requisicao = requests.get(r'https://economia.awesomeapi.com.br/all/USD-BRL')\n",
    "cotacao = requisicao.json()\n",
    "cotacao_dolar = float(cotacao['USD']['bid'])\n",
    "print(cotacao_dolar)"
   ]
  },
  {
   "attachments": {},
   "cell_type": "markdown",
   "metadata": {},
   "source": [
    "Configurando dias"
   ]
  },
  {
   "cell_type": "code",
   "execution_count": 6,
   "metadata": {},
   "outputs": [],
   "source": [
    "today = date.today()\n",
    "start_day = today - timedelta(days = 7)\n"
   ]
  },
  {
   "cell_type": "markdown",
   "metadata": {},
   "source": [
    "Puxar quantidade Dolar existente"
   ]
  },
  {
   "cell_type": "markdown",
   "metadata": {},
   "source": [
    "Atualizar planilha com bolsa Down Jones"
   ]
  },
  {
   "cell_type": "code",
   "execution_count": 7,
   "metadata": {},
   "outputs": [
    {
     "name": "stdout",
     "output_type": "stream",
     "text": [
      "[*********************100%***********************]  9 of 9 completed\n"
     ]
    },
    {
     "data": {
      "text/html": [
       "<div>\n",
       "<style scoped>\n",
       "    .dataframe tbody tr th:only-of-type {\n",
       "        vertical-align: middle;\n",
       "    }\n",
       "\n",
       "    .dataframe tbody tr th {\n",
       "        vertical-align: top;\n",
       "    }\n",
       "\n",
       "    .dataframe thead th {\n",
       "        text-align: right;\n",
       "    }\n",
       "</style>\n",
       "<table border=\"1\" class=\"dataframe\">\n",
       "  <thead>\n",
       "    <tr style=\"text-align: right;\">\n",
       "      <th></th>\n",
       "      <th>AMZN</th>\n",
       "      <th>BRK-A</th>\n",
       "      <th>GOOGL</th>\n",
       "      <th>LAND</th>\n",
       "      <th>MSFT</th>\n",
       "      <th>PG</th>\n",
       "      <th>SBUX</th>\n",
       "      <th>WPC</th>\n",
       "      <th>TGT</th>\n",
       "      <th>Total</th>\n",
       "    </tr>\n",
       "    <tr>\n",
       "      <th>Ativos</th>\n",
       "      <th></th>\n",
       "      <th></th>\n",
       "      <th></th>\n",
       "      <th></th>\n",
       "      <th></th>\n",
       "      <th></th>\n",
       "      <th></th>\n",
       "      <th></th>\n",
       "      <th></th>\n",
       "      <th></th>\n",
       "    </tr>\n",
       "  </thead>\n",
       "  <tbody>\n",
       "    <tr>\n",
       "      <th>Qtde</th>\n",
       "      <td>16.123900</td>\n",
       "      <td>0.004661</td>\n",
       "      <td>17.590000</td>\n",
       "      <td>61.152800</td>\n",
       "      <td>7.480000</td>\n",
       "      <td>14.325700</td>\n",
       "      <td>24.012800</td>\n",
       "      <td>17.979000</td>\n",
       "      <td>16.966275</td>\n",
       "      <td>175.635136</td>\n",
       "    </tr>\n",
       "    <tr>\n",
       "      <th>ValorDol</th>\n",
       "      <td>1319.257493</td>\n",
       "      <td>2143.127800</td>\n",
       "      <td>1513.091741</td>\n",
       "      <td>1103.196568</td>\n",
       "      <td>1754.284391</td>\n",
       "      <td>2176.933468</td>\n",
       "      <td>2367.662043</td>\n",
       "      <td>1393.642174</td>\n",
       "      <td>2473.683002</td>\n",
       "      <td>16244.878681</td>\n",
       "    </tr>\n",
       "    <tr>\n",
       "      <th>ValorReal</th>\n",
       "      <td>7179.135426</td>\n",
       "      <td>11662.472862</td>\n",
       "      <td>8233.942636</td>\n",
       "      <td>6003.375084</td>\n",
       "      <td>9546.464798</td>\n",
       "      <td>11846.436547</td>\n",
       "      <td>12884.343308</td>\n",
       "      <td>7583.921983</td>\n",
       "      <td>13461.288161</td>\n",
       "      <td>88401.380804</td>\n",
       "    </tr>\n",
       "  </tbody>\n",
       "</table>\n",
       "</div>"
      ],
      "text/plain": [
       "                  AMZN         BRK-A        GOOGL         LAND         MSFT  \\\n",
       "Ativos                                                                        \n",
       "Qtde         16.123900      0.004661    17.590000    61.152800     7.480000   \n",
       "ValorDol   1319.257493   2143.127800  1513.091741  1103.196568  1754.284391   \n",
       "ValorReal  7179.135426  11662.472862  8233.942636  6003.375084  9546.464798   \n",
       "\n",
       "                     PG          SBUX          WPC           TGT         Total  \n",
       "Ativos                                                                          \n",
       "Qtde          14.325700     24.012800    17.979000     16.966275    175.635136  \n",
       "ValorDol    2176.933468   2367.662043  1393.642174   2473.683002  16244.878681  \n",
       "ValorReal  11846.436547  12884.343308  7583.921983  13461.288161  88401.380804  "
      ]
     },
     "metadata": {},
     "output_type": "display_data"
    },
    {
     "name": "stdout",
     "output_type": "stream",
     "text": [
      "88401.38080427841\n"
     ]
    }
   ],
   "source": [
    "\n",
    "carteirausa_df = pd.read_excel(\n",
    "    r'C:\\Users\\belig\\OneDrive\\Python\\MeuProjeto\\Projetos\\dash_investimentos\\Resumo_Investimentos\\Carteira_usa.xlsx', index_col=0)\n",
    "# display(carteirausa_df)\n",
    "tickers_DowJones = \"AMZN BRK-A GOOGL LAND MSFT PG SBUX WPC TGT\"\n",
    "datayf = yf.download(tickers_DowJones, start=start_day, end=today)\n",
    "datayf = datayf['Adj Close']\n",
    "# display(datayf)\n",
    "for i in datayf:\n",
    "    x = datayf[i][0]\n",
    "    #print(x)\n",
    "    carteirausa_df[i]['ValorDol'] = x\n",
    "    #print(carteirausa_df['AMZN']['ValorDol'])\n",
    "    carteirausa_df[i]['ValorDol'] = carteirausa_df[i]['ValorDol'] * carteirausa_df[i]['Qtde']\n",
    "    carteirausa_df[i]['ValorReal'] = carteirausa_df[i]['ValorDol'] * cotacao_dolar\n",
    "carteirausa_df['Total'] = carteirausa_df.sum(axis=1)\n",
    "display(carteirausa_df)\n",
    "dolartt = carteirausa_df['Total']['ValorReal']\n",
    "print(dolartt)\n",
    "carteirausa_df.to_excel(r'C:\\Users\\belig\\OneDrive\\Python\\MeuProjeto\\Projetos\\dash_investimentos\\Resumo_Investimentos\\Carteira_usa_dia.xlsx')\n"
   ]
  },
  {
   "cell_type": "markdown",
   "metadata": {},
   "source": [
    "Puxando montante em criptos"
   ]
  },
  {
   "cell_type": "code",
   "execution_count": 8,
   "metadata": {},
   "outputs": [
    {
     "name": "stdout",
     "output_type": "stream",
     "text": [
      "[*********************100%***********************]  3 of 3 completed\n"
     ]
    },
    {
     "data": {
      "text/html": [
       "<div>\n",
       "<style scoped>\n",
       "    .dataframe tbody tr th:only-of-type {\n",
       "        vertical-align: middle;\n",
       "    }\n",
       "\n",
       "    .dataframe tbody tr th {\n",
       "        vertical-align: top;\n",
       "    }\n",
       "\n",
       "    .dataframe thead th {\n",
       "        text-align: right;\n",
       "    }\n",
       "</style>\n",
       "<table border=\"1\" class=\"dataframe\">\n",
       "  <thead>\n",
       "    <tr style=\"text-align: right;\">\n",
       "      <th></th>\n",
       "      <th>BTC-USD</th>\n",
       "      <th>ETH-USD</th>\n",
       "      <th>DOGE-USD</th>\n",
       "      <th>Total</th>\n",
       "    </tr>\n",
       "    <tr>\n",
       "      <th>Ativos</th>\n",
       "      <th></th>\n",
       "      <th></th>\n",
       "      <th></th>\n",
       "      <th></th>\n",
       "    </tr>\n",
       "  </thead>\n",
       "  <tbody>\n",
       "    <tr>\n",
       "      <th>Qtde</th>\n",
       "      <td>0.027102</td>\n",
       "      <td>0.055097</td>\n",
       "      <td>2486.104852</td>\n",
       "      <td>2486.187051</td>\n",
       "    </tr>\n",
       "    <tr>\n",
       "      <th>ValorDol</th>\n",
       "      <td>456.134409</td>\n",
       "      <td>67.118778</td>\n",
       "      <td>191.348035</td>\n",
       "      <td>714.601221</td>\n",
       "    </tr>\n",
       "    <tr>\n",
       "      <th>ValorReal</th>\n",
       "      <td>2482.192225</td>\n",
       "      <td>365.246964</td>\n",
       "      <td>1041.277734</td>\n",
       "      <td>3888.716924</td>\n",
       "    </tr>\n",
       "  </tbody>\n",
       "</table>\n",
       "</div>"
      ],
      "text/plain": [
       "               BTC-USD     ETH-USD     DOGE-USD        Total\n",
       "Ativos                                                      \n",
       "Qtde          0.027102    0.055097  2486.104852  2486.187051\n",
       "ValorDol    456.134409   67.118778   191.348035   714.601221\n",
       "ValorReal  2482.192225  365.246964  1041.277734  3888.716924"
      ]
     },
     "metadata": {},
     "output_type": "display_data"
    },
    {
     "name": "stdout",
     "output_type": "stream",
     "text": [
      "3888.716923624794\n"
     ]
    }
   ],
   "source": [
    "carteira_cripto_df = pd.read_excel(\n",
    "    r'C:\\Users\\belig\\OneDrive\\Python\\MeuProjeto\\Projetos\\dash_investimentos\\Resumo_Investimentos\\Carteira_cripto.xlsx', index_col=0)\n",
    "# display(carteira_cripto_df)\n",
    "tickers_Cripto = \"BTC-USD ETH-USD DOGE-USD\"\n",
    "datayf = yf.download(tickers_Cripto, start=\"2022-12-22\", end=\"2022-12-23\")\n",
    "datayf = datayf['Adj Close']\n",
    "# display(datayf)\n",
    "for i in datayf:\n",
    "    x = datayf[i][0]\n",
    "    #print(x)\n",
    "    carteira_cripto_df[i]['ValorDol'] = x\n",
    "    #print(carteira_cripto_df['AMZN']['ValorDol'])\n",
    "    carteira_cripto_df[i]['ValorDol'] = carteira_cripto_df[i]['ValorDol'] * carteira_cripto_df[i]['Qtde']\n",
    "    carteira_cripto_df[i]['ValorReal'] = carteira_cripto_df[i]['ValorDol'] * cotacao_dolar\n",
    "carteira_cripto_df['Total'] = carteira_cripto_df.sum(axis=1)\n",
    "display(carteira_cripto_df)\n",
    "CriptoTotal = carteira_cripto_df['Total']['ValorReal']\n",
    "print(CriptoTotal)\n",
    "carteira_cripto_df.to_excel(r'C:\\Users\\belig\\OneDrive\\Python\\MeuProjeto\\Projetos\\dash_investimentos\\Resumo_Investimentos\\Carteira_criptos_dia.xlsx')\n"
   ]
  },
  {
   "cell_type": "markdown",
   "metadata": {},
   "source": [
    "Abrindo Data Frames"
   ]
  },
  {
   "cell_type": "markdown",
   "metadata": {},
   "source": [
    "Abrir Info.xls e alterar o valor do dolar cotação e dolar montante total"
   ]
  },
  {
   "cell_type": "code",
   "execution_count": 9,
   "metadata": {},
   "outputs": [],
   "source": [
    "\n",
    "wb = load_workbook(filename=r'C:\\Users\\belig\\OneDrive\\Python\\MeuProjeto\\Projetos\\dash_investimentos\\Resumo_Investimentos\\infos.xlsx')\n",
    "ws = wb.worksheets[1]\n",
    "ws['I4'] = cotacao_dolar\n",
    "ws['I2'] = dolartt\n",
    "ws['H2'] = CriptoTotal\n",
    "wb.save(r'C:\\Users\\belig\\OneDrive\\Python\\MeuProjeto\\Projetos\\dash_investimentos\\Resumo_Investimentos\\infos.xlsx')\n"
   ]
  },
  {
   "cell_type": "markdown",
   "metadata": {},
   "source": [
    "Excel file, open, refresh and close"
   ]
  },
  {
   "cell_type": "code",
   "execution_count": 10,
   "metadata": {},
   "outputs": [],
   "source": [
    "# Start an instance of Excel\n",
    "xlapp = win32.DispatchEx(\"Excel.Application\")\n",
    "\n",
    "# Open the workbook in said instance of Excel\n",
    "wb = xlapp.workbooks.open(r'C:\\Users\\belig\\OneDrive\\Python\\MeuProjeto\\Projetos\\dash_investimentos\\Resumo_Investimentos\\infos.xlsx')\n",
    "\n",
    "# Optional, e.g. if you want to debug\n",
    "xlapp.Visible = True\n",
    "\n",
    "# Refresh all data connections.\n",
    "wb.RefreshAll()\n",
    "wb.Save()\n",
    "\n",
    "# Quit\n",
    "xlapp.Quit()\n",
    "time.sleep(5)"
   ]
  },
  {
   "cell_type": "code",
   "execution_count": null,
   "metadata": {},
   "outputs": [],
   "source": [
    "# filenames\n",
    "excel_names = [r\"C:\\Users\\belig\\OneDrive\\Python\\MeuProjeto\\Projetos\\dash_investimentos\\Resumo_Investimentos\\base_dash.xlsx\", r\"C:\\Users\\belig\\OneDrive\\Python\\MeuProjeto\\Projetos\\dash_investimentos\\Resumo_Investimentos\\infos.xlsx\"]\n",
    "\n",
    "# read them in\n",
    "excels = [pd.ExcelFile(name) for name in excel_names]\n",
    "\n",
    "# turn them into dataframes\n",
    "frames = [x.parse(x.sheet_names[0], header=None,index_col=None) for x in excels]\n",
    "\n",
    "# delete the first row for all frames except the first\n",
    "# i.e. remove the header row -- assumes it's the first\n",
    "frames[1:] = [df[1:] for df in frames[1:]]\n",
    "\n",
    "# concatenate them..\n",
    "combined = pd.concat(frames)\n",
    "\n",
    "# write it out\n",
    "combined.to_excel(\"base_dash.xlsx\", header=False, index=False)"
   ]
  },
  {
   "cell_type": "code",
   "execution_count": null,
   "metadata": {},
   "outputs": [],
   "source": [
    "os.startfile(r'\"C:\\Users\\belig\\OneDrive\\Python\\MeuProjeto\\Projetos\\dash_investimentos\\Resumo_Investimentos\\DashFinanceiro_PBI.pbix\"')"
   ]
  }
 ],
 "metadata": {
  "kernelspec": {
   "display_name": "Python 3.10.8 64-bit (microsoft store)",
   "language": "python",
   "name": "python3"
  },
  "language_info": {
   "codemirror_mode": {
    "name": "ipython",
    "version": 3
   },
   "file_extension": ".py",
   "mimetype": "text/x-python",
   "name": "python",
   "nbconvert_exporter": "python",
   "pygments_lexer": "ipython3",
   "version": "3.10.9"
  },
  "orig_nbformat": 4,
  "vscode": {
   "interpreter": {
    "hash": "1c52493868dc53dbd5c75ab4669d3650689c9c6f97c2bf57df2ba7b019149d15"
   }
  }
 },
 "nbformat": 4,
 "nbformat_minor": 2
}
