{
 "cells": [
  {
   "cell_type": "code",
   "execution_count": 1,
   "metadata": {},
   "outputs": [],
   "source": [
    "import pandas as pd\n",
    "import win32com.client as win32\n",
    "import time\n",
    "import requests\n",
    "import json\n",
    "import openpyxl\n",
    "import pandas_datareader.data as web\n",
    "from datetime import date, timedelta\n",
    "from openpyxl import load_workbook"
   ]
  },
  {
   "cell_type": "markdown",
   "metadata": {},
   "source": [
    "Puxar Valor Dolar"
   ]
  },
  {
   "cell_type": "code",
   "execution_count": 2,
   "metadata": {},
   "outputs": [
    {
     "name": "stdout",
     "output_type": "stream",
     "text": [
      "5.358\n"
     ]
    }
   ],
   "source": [
    "requisicao = requests.get(r'https://economia.awesomeapi.com.br/all/USD-BRL')\n",
    "cotacao = requisicao.json()\n",
    "cotacao_dolar = float(cotacao['USD']['bid'])\n",
    "print(cotacao_dolar)"
   ]
  },
  {
   "cell_type": "markdown",
   "metadata": {},
   "source": [
    "Puxar quantidade Dolar existente"
   ]
  },
  {
   "cell_type": "markdown",
   "metadata": {},
   "source": [
    "Atualizar planilha com bolsa Down Jones"
   ]
  },
  {
   "cell_type": "code",
   "execution_count": 3,
   "metadata": {},
   "outputs": [],
   "source": [
    "carteira_df = pd.read_excel(\n",
    "    r'C:\\Users\\belig\\OneDrive\\Python\\MeuProjeto\\Projetos\\dash_investimentos\\Resumo_Investimentos\\Carteira_usa.xlsx')\n",
    "today = date.today()\n",
    "yesterday = today - timedelta(days = 1)\n",
    "cotacoes_carteira = pd.DataFrame()\n",
    "\n",
    "try:\n",
    "    for ativo in carteira_df['Ativos']:\n",
    "        cotacoes_carteira[ativo] = web.DataReader('{}'.format(ativo), data_source='yahoo', start=yesterday, end=yesterday)['Adj Close']\n",
    "except:\n",
    "        for ativo in carteira_df['Ativos']:\n",
    "            cotacoes_carteira[ativo] = web.DataReader('{}'.format(ativo), data_source='yahoo', start=today, end=today)['Adj Close']\n",
    "\n",
    "valor_investido = pd.DataFrame()\n",
    "for ativo in carteira_df['Ativos']:\n",
    "    valor_investido[ativo] = cotacoes_carteira[ativo] * carteira_df.loc[carteira_df['Ativos'] == ativo, 'Qtde'].values[0]\n",
    "\n",
    "valor_investido['TOTAL'] = valor_investido[list(valor_investido.columns)].sum(axis=1)\n",
    "\n",
    "valor_investido.to_excel(r'C:\\Users\\belig\\OneDrive\\Python\\MeuProjeto\\Projetos\\dash_investimentos\\Resumo_Investimentos\\Carteira_usa_dia.xlsx')"
   ]
  },
  {
   "cell_type": "code",
   "execution_count": 4,
   "metadata": {},
   "outputs": [
    {
     "name": "stdout",
     "output_type": "stream",
     "text": [
      "15764.30533685791\n"
     ]
    }
   ],
   "source": [
    "dolar_wb = load_workbook(r\"C:\\Users\\belig\\OneDrive\\Python\\MeuProjeto\\Projetos\\dash_investimentos\\Resumo_Investimentos\\Carteira_usa_dia.xlsx\", data_only=True)\n",
    "sh = dolar_wb[\"Sheet1\"]\n",
    "dolartt= (sh[\"k2\"].value)\n",
    "print(dolartt)"
   ]
  },
  {
   "cell_type": "markdown",
   "metadata": {},
   "source": [
    "Puxando montante em criptos"
   ]
  },
  {
   "cell_type": "code",
   "execution_count": 5,
   "metadata": {},
   "outputs": [],
   "source": [
    "carteira_cripto_df = pd.read_excel(\n",
    "    r'C:\\Users\\belig\\OneDrive\\Python\\MeuProjeto\\Projetos\\dash_investimentos\\Resumo_Investimentos\\Carteira_cripto.xlsx')\n",
    "today = date.today()\n",
    "yesterday = today - timedelta(days = 1)\n",
    "cotacoes_carteira = pd.DataFrame()\n",
    "\n",
    "for ativo in carteira_cripto_df['Ativos']:\n",
    "    cotacoes_carteira[ativo] = web.DataReader('{}'.format(ativo), data_source='yahoo', start=today, end=today)['Adj Close']\n",
    "\n",
    "valor_investido = pd.DataFrame()\n",
    "for ativo in carteira_cripto_df['Ativos']:\n",
    "    valor_investido[ativo] = cotacoes_carteira[ativo] * carteira_cripto_df.loc[carteira_cripto_df['Ativos'] == ativo, 'Qtde'].values[0]\n",
    "\n",
    "valor_investido['TOTAL'] = valor_investido[list(valor_investido.columns)].sum(axis=1)\n",
    "\n",
    "valor_investido.to_excel(r\"C:\\Users\\belig\\OneDrive\\Python\\MeuProjeto\\Projetos\\dash_investimentos\\Resumo_Investimentos\\Carteira_criptos_dia.xlsx\")"
   ]
  },
  {
   "cell_type": "code",
   "execution_count": 6,
   "metadata": {},
   "outputs": [
    {
     "name": "stdout",
     "output_type": "stream",
     "text": [
      "786.2308891487628\n"
     ]
    }
   ],
   "source": [
    "cripto_wb = load_workbook(r\"C:\\Users\\belig\\OneDrive\\Python\\MeuProjeto\\Projetos\\dash_investimentos\\Resumo_Investimentos\\Carteira_criptos_dia.xlsx\", data_only=True)\n",
    "sh = cripto_wb[\"Sheet1\"]\n",
    "criptott= (sh[\"E2\"].value)\n",
    "print(criptott)"
   ]
  },
  {
   "cell_type": "markdown",
   "metadata": {},
   "source": [
    "Abrindo Data Frames"
   ]
  },
  {
   "cell_type": "markdown",
   "metadata": {},
   "source": [
    "Abrir Info.xls e alterar o valor do dolar cotação e dolar montante total"
   ]
  },
  {
   "cell_type": "code",
   "execution_count": 7,
   "metadata": {},
   "outputs": [],
   "source": [
    "\n",
    "wb = load_workbook(filename=r'C:\\Users\\belig\\OneDrive\\Python\\MeuProjeto\\Projetos\\dash_investimentos\\Resumo_Investimentos\\infos.xlsx')\n",
    "ws = wb.worksheets[1]\n",
    "ws['I4'] = cotacao_dolar\n",
    "ws['I2'] = dolartt\n",
    "ws['H2'] = criptott\n",
    "wb.save(r'C:\\Users\\belig\\OneDrive\\Python\\MeuProjeto\\Projetos\\dash_investimentos\\Resumo_Investimentos\\infos.xlsx')\n"
   ]
  },
  {
   "cell_type": "markdown",
   "metadata": {},
   "source": [
    "Excel file, open, refresh and close"
   ]
  },
  {
   "cell_type": "code",
   "execution_count": 8,
   "metadata": {},
   "outputs": [],
   "source": [
    "# Start an instance of Excel\n",
    "xlapp = win32.DispatchEx(\"Excel.Application\")\n",
    "\n",
    "# Open the workbook in said instance of Excel\n",
    "wb = xlapp.workbooks.open(r'C:\\Users\\belig\\OneDrive\\Python\\MeuProjeto\\Projetos\\dash_investimentos\\Resumo_Investimentos\\infos.xlsx')\n",
    "\n",
    "# Optional, e.g. if you want to debug\n",
    "xlapp.Visible = True\n",
    "\n",
    "# Refresh all data connections.\n",
    "wb.RefreshAll()\n",
    "wb.Save()\n",
    "\n",
    "# Quit\n",
    "xlapp.Quit()"
   ]
  },
  {
   "cell_type": "code",
   "execution_count": 10,
   "metadata": {},
   "outputs": [],
   "source": [
    "# filenames\n",
    "excel_names = [r\"C:\\Users\\belig\\OneDrive\\Python\\MeuProjeto\\Projetos\\dash_investimentos\\Resumo_Investimentos\\base_dash.xlsx\", r\"C:\\Users\\belig\\OneDrive\\Python\\MeuProjeto\\Projetos\\dash_investimentos\\Resumo_Investimentos\\infos.xlsx\"]\n",
    "\n",
    "# read them in\n",
    "excels = [pd.ExcelFile(name) for name in excel_names]\n",
    "\n",
    "# turn them into dataframes\n",
    "frames = [x.parse(x.sheet_names[0], header=None,index_col=None) for x in excels]\n",
    "\n",
    "# delete the first row for all frames except the first\n",
    "# i.e. remove the header row -- assumes it's the first\n",
    "frames[1:] = [df[1:] for df in frames[1:]]\n",
    "\n",
    "# concatenate them..\n",
    "combined = pd.concat(frames)\n",
    "\n",
    "# write it out\n",
    "combined.to_excel(\"base_dash.xlsx\", header=False, index=False)"
   ]
  }
 ],
 "metadata": {
  "kernelspec": {
   "display_name": "Python 3.10.8 64-bit (microsoft store)",
   "language": "python",
   "name": "python3"
  },
  "language_info": {
   "codemirror_mode": {
    "name": "ipython",
    "version": 3
   },
   "file_extension": ".py",
   "mimetype": "text/x-python",
   "name": "python",
   "nbconvert_exporter": "python",
   "pygments_lexer": "ipython3",
   "version": "3.10.8"
  },
  "orig_nbformat": 4,
  "vscode": {
   "interpreter": {
    "hash": "1c52493868dc53dbd5c75ab4669d3650689c9c6f97c2bf57df2ba7b019149d15"
   }
  }
 },
 "nbformat": 4,
 "nbformat_minor": 2
}
