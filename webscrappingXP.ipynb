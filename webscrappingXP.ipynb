{
 "cells": [
  {
   "cell_type": "code",
   "execution_count": 14,
   "metadata": {},
   "outputs": [],
   "source": [
    "from selenium import webdriver\n",
    "from selenium.webdriver.common.by import By\n",
    "from time import sleep\n",
    "import time\n",
    "import shutil\n",
    "import os\n"
   ]
  },
  {
   "cell_type": "code",
   "execution_count": null,
   "metadata": {},
   "outputs": [],
   "source": [
    "\n",
    "\n",
    "options = webdriver.ChromeOptions()\n",
    "prefs = {\"download.default_directory\" : r\"C:\\Users\\belig\\OneDrive\\Python\\MeuProjeto\\Projetos\\dash_investimentos\\Resumo_Investimentos\\posicao_detalhada\"}\n",
    "#example: prefs = {\"download.default_directory\" : \"C:\\Tutorial\\down\"};\n",
    "options.add_experimental_option(\"prefs\",prefs)\n",
    "\n",
    "navegador = webdriver.Chrome(options=options)\n",
    "navegador.get('https://portal.xpi.com.br/')\n",
    "id_cliente= '2563257'\n",
    "navegador.find_element(By.XPATH, '//*[@id=\"txtLogin\"]').send_keys(id_cliente)\n",
    "sleep(2)\n",
    "navegador.find_element(By.XPATH, '//*[@id=\"btnOkLogin\"]').click()\n",
    "sleep(25)\n",
    "navegador.find_element(By.XPATH, '//*[@id=\"root\"]/div/div/soma-tabs/soma-tab[2]/a').click()\n",
    "sleep(2)\n",
    "navegador.find_element(By.XPATH, '//*[@id=\"root\"]/arsenal-loader/div/div[2]/div[2]/div[1]/div/div/div[4]/div/soma-button[1]').click()\n",
    "sleep(2)\n",
    "navegador.close()\n",
    "sleep(4)\n",
    "src = r'C:\\Users\\belig\\OneDrive\\Python\\MeuProjeto\\Projetos\\dash_investimentos\\Resumo_Investimentos\\posicao_detalhada'\n",
    "dst = r'C:\\Users\\belig\\OneDrive\\Python\\MeuProjeto\\Projetos\\dash_investimentos\\Resumo_Investimentos'\n",
    "filelist = ['PosicaoDetalhada']\n",
    "\n",
    "files = os.listdir( src )\n",
    "for filename in files:\n",
    "    filelist.append(filename)\n",
    "    fullpath = src + '/' + filename\n",
    "    shutil.move(os.path.join(src, filename), os.path.join(dst, filename))\n"
   ]
  },
  {
   "cell_type": "code",
   "execution_count": null,
   "metadata": {},
   "outputs": [],
   "source": []
  }
 ],
 "metadata": {
  "kernelspec": {
   "display_name": "Python 3",
   "language": "python",
   "name": "python3"
  },
  "language_info": {
   "codemirror_mode": {
    "name": "ipython",
    "version": 3
   },
   "file_extension": ".py",
   "mimetype": "text/x-python",
   "name": "python",
   "nbconvert_exporter": "python",
   "pygments_lexer": "ipython3",
   "version": "3.10.9"
  },
  "orig_nbformat": 4,
  "vscode": {
   "interpreter": {
    "hash": "1c52493868dc53dbd5c75ab4669d3650689c9c6f97c2bf57df2ba7b019149d15"
   }
  }
 },
 "nbformat": 4,
 "nbformat_minor": 2
}
